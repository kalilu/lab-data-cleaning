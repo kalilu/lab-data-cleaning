{
 "cells": [
  {
   "cell_type": "markdown",
   "metadata": {},
   "source": [
    "#### 1. Import pandas library"
   ]
  },
  {
   "cell_type": "code",
   "execution_count": 1,
   "metadata": {
    "ExecuteTime": {
     "end_time": "2020-01-30T14:26:38.421429Z",
     "start_time": "2020-01-30T14:26:37.745030Z"
    }
   },
   "outputs": [],
   "source": [
    "import pandas as pd\n",
    "import numpy as np"
   ]
  },
  {
   "cell_type": "markdown",
   "metadata": {},
   "source": [
    "#### 2. Import BigQuery library\n"
   ]
  },
  {
   "cell_type": "code",
   "execution_count": 2,
   "metadata": {
    "ExecuteTime": {
     "end_time": "2020-01-30T14:26:40.865149Z",
     "start_time": "2020-01-30T14:26:39.495858Z"
    }
   },
   "outputs": [],
   "source": [
    "from google.cloud import bigquery"
   ]
  },
  {
   "cell_type": "markdown",
   "metadata": {},
   "source": [
    "#### 3. Create a connection to BigQuery"
   ]
  },
  {
   "cell_type": "code",
   "execution_count": 3,
   "metadata": {
    "ExecuteTime": {
     "end_time": "2020-01-30T14:26:41.280785Z",
     "start_time": "2020-01-30T14:26:41.267050Z"
    }
   },
   "outputs": [],
   "source": [
    "import os\n",
    "os.environ[\"GOOGLE_APPLICATION_CREDENTIALS\"]=\"./ironhack_service_account_big_query.json\"\n",
    "import six\n",
    "six.moves.reload_module(six)\n",
    "client = bigquery.Client()"
   ]
  },
  {
   "cell_type": "markdown",
   "metadata": {},
   "source": [
    "#### 4. Import data from the users table from the stackoverflow public database for United Kingdom only"
   ]
  },
  {
   "cell_type": "code",
   "execution_count": 4,
   "metadata": {
    "ExecuteTime": {
     "end_time": "2020-01-30T14:26:43.257107Z",
     "start_time": "2020-01-30T14:26:43.249189Z"
    }
   },
   "outputs": [],
   "source": [
    "sql=\"\"\"\n",
    "SELECT \n",
    "    *\n",
    "FROM\n",
    "    `bigquery-public-data.stackoverflow.users`\n",
    "WHERE\n",
    "    location LIKE '%United Kingdom%'\n",
    "    \"\"\""
   ]
  },
  {
   "cell_type": "code",
   "execution_count": 5,
   "metadata": {
    "ExecuteTime": {
     "end_time": "2020-01-30T14:27:00.474193Z",
     "start_time": "2020-01-30T14:26:44.498240Z"
    }
   },
   "outputs": [
    {
     "data": {
      "text/html": [
       "<div>\n",
       "<style scoped>\n",
       "    .dataframe tbody tr th:only-of-type {\n",
       "        vertical-align: middle;\n",
       "    }\n",
       "\n",
       "    .dataframe tbody tr th {\n",
       "        vertical-align: top;\n",
       "    }\n",
       "\n",
       "    .dataframe thead th {\n",
       "        text-align: right;\n",
       "    }\n",
       "</style>\n",
       "<table border=\"1\" class=\"dataframe\">\n",
       "  <thead>\n",
       "    <tr style=\"text-align: right;\">\n",
       "      <th></th>\n",
       "      <th>id</th>\n",
       "      <th>display_name</th>\n",
       "      <th>about_me</th>\n",
       "      <th>age</th>\n",
       "      <th>creation_date</th>\n",
       "      <th>last_access_date</th>\n",
       "      <th>location</th>\n",
       "      <th>reputation</th>\n",
       "      <th>up_votes</th>\n",
       "      <th>down_votes</th>\n",
       "      <th>views</th>\n",
       "      <th>profile_image_url</th>\n",
       "      <th>website_url</th>\n",
       "    </tr>\n",
       "  </thead>\n",
       "  <tbody>\n",
       "    <tr>\n",
       "      <th>0</th>\n",
       "      <td>1074</td>\n",
       "      <td>Javache</td>\n",
       "      <td>&lt;p&gt;Hi.&lt;/p&gt;\\n\\n&lt;p&gt;I'm an iOS engineer at Facebo...</td>\n",
       "      <td>None</td>\n",
       "      <td>2008-08-12 10:11:09.847000+00:00</td>\n",
       "      <td>2019-10-21 15:17:18.803000+00:00</td>\n",
       "      <td>London, United Kingdom</td>\n",
       "      <td>3107</td>\n",
       "      <td>158</td>\n",
       "      <td>21</td>\n",
       "      <td>266</td>\n",
       "      <td>None</td>\n",
       "      <td>http://thinkjavache.be/blog</td>\n",
       "    </tr>\n",
       "    <tr>\n",
       "      <th>1</th>\n",
       "      <td>1077</td>\n",
       "      <td>smh</td>\n",
       "      <td>&lt;p&gt;\\nEmbedded software engineer.&lt;/p&gt;</td>\n",
       "      <td>None</td>\n",
       "      <td>2008-08-12 10:34:56.447000+00:00</td>\n",
       "      <td>2019-09-07 17:19:22.130000+00:00</td>\n",
       "      <td>Southampton, United Kingdom</td>\n",
       "      <td>1075</td>\n",
       "      <td>148</td>\n",
       "      <td>4</td>\n",
       "      <td>69</td>\n",
       "      <td>None</td>\n",
       "      <td>http://www.bevois.com</td>\n",
       "    </tr>\n",
       "    <tr>\n",
       "      <th>2</th>\n",
       "      <td>4397</td>\n",
       "      <td>andygeers</td>\n",
       "      <td>None</td>\n",
       "      <td>None</td>\n",
       "      <td>2008-09-03 13:48:30.233000+00:00</td>\n",
       "      <td>2019-11-29 12:40:30.020000+00:00</td>\n",
       "      <td>London, United Kingdom</td>\n",
       "      <td>6057</td>\n",
       "      <td>511</td>\n",
       "      <td>12</td>\n",
       "      <td>593</td>\n",
       "      <td>None</td>\n",
       "      <td>http://www.geero.net/</td>\n",
       "    </tr>\n",
       "    <tr>\n",
       "      <th>3</th>\n",
       "      <td>5337</td>\n",
       "      <td>J Hunt</td>\n",
       "      <td>&lt;p&gt;&lt;/p&gt;</td>\n",
       "      <td>None</td>\n",
       "      <td>2008-09-09 09:07:41.840000+00:00</td>\n",
       "      <td>2015-02-19 16:29:45.007000+00:00</td>\n",
       "      <td>United Kingdom</td>\n",
       "      <td>602</td>\n",
       "      <td>1</td>\n",
       "      <td>0</td>\n",
       "      <td>127</td>\n",
       "      <td>None</td>\n",
       "      <td>None</td>\n",
       "    </tr>\n",
       "    <tr>\n",
       "      <th>4</th>\n",
       "      <td>6910</td>\n",
       "      <td>Jonathan</td>\n",
       "      <td>&lt;ul&gt;&lt;li&gt;Started programming with Visual Basic ...</td>\n",
       "      <td>None</td>\n",
       "      <td>2008-09-15 12:48:35.843000+00:00</td>\n",
       "      <td>2019-11-29 15:15:39.270000+00:00</td>\n",
       "      <td>United Kingdom</td>\n",
       "      <td>21315</td>\n",
       "      <td>897</td>\n",
       "      <td>8</td>\n",
       "      <td>831</td>\n",
       "      <td>https://www.gravatar.com/avatar/592695fec5a951...</td>\n",
       "      <td>http://www.toolan.net</td>\n",
       "    </tr>\n",
       "    <tr>\n",
       "      <th>5</th>\n",
       "      <td>33682</td>\n",
       "      <td>James Crowley</td>\n",
       "      <td>&lt;p&gt;Co-founder at &lt;a href=\"http://www.fundapps....</td>\n",
       "      <td>None</td>\n",
       "      <td>2008-11-03 15:43:51.987000+00:00</td>\n",
       "      <td>2019-11-19 17:11:30.080000+00:00</td>\n",
       "      <td>United Kingdom</td>\n",
       "      <td>3218</td>\n",
       "      <td>124</td>\n",
       "      <td>3</td>\n",
       "      <td>448</td>\n",
       "      <td>None</td>\n",
       "      <td>http://www.jamescrowley.net/</td>\n",
       "    </tr>\n",
       "    <tr>\n",
       "      <th>6</th>\n",
       "      <td>71376</td>\n",
       "      <td>Matt W</td>\n",
       "      <td>&lt;p&gt;I write code for fun and profit. Sometimes ...</td>\n",
       "      <td>None</td>\n",
       "      <td>2009-02-26 13:19:55.310000+00:00</td>\n",
       "      <td>2019-11-29 10:17:03.160000+00:00</td>\n",
       "      <td>London, United Kingdom</td>\n",
       "      <td>7101</td>\n",
       "      <td>642</td>\n",
       "      <td>25</td>\n",
       "      <td>655</td>\n",
       "      <td>None</td>\n",
       "      <td>http://springboardpillow.blogspot.com/</td>\n",
       "    </tr>\n",
       "    <tr>\n",
       "      <th>7</th>\n",
       "      <td>73789</td>\n",
       "      <td>Perrin255</td>\n",
       "      <td>None</td>\n",
       "      <td>None</td>\n",
       "      <td>2009-03-04 16:50:24.240000+00:00</td>\n",
       "      <td>2019-04-26 14:48:57.903000+00:00</td>\n",
       "      <td>United Kingdom</td>\n",
       "      <td>431</td>\n",
       "      <td>55</td>\n",
       "      <td>0</td>\n",
       "      <td>49</td>\n",
       "      <td>None</td>\n",
       "      <td>None</td>\n",
       "    </tr>\n",
       "    <tr>\n",
       "      <th>8</th>\n",
       "      <td>90996</td>\n",
       "      <td>badmanj</td>\n",
       "      <td>None</td>\n",
       "      <td>None</td>\n",
       "      <td>2009-04-15 09:01:26.433000+00:00</td>\n",
       "      <td>2010-04-09 10:31:19.850000+00:00</td>\n",
       "      <td>United Kingdom</td>\n",
       "      <td>178</td>\n",
       "      <td>3</td>\n",
       "      <td>0</td>\n",
       "      <td>51</td>\n",
       "      <td>None</td>\n",
       "      <td>None</td>\n",
       "    </tr>\n",
       "    <tr>\n",
       "      <th>9</th>\n",
       "      <td>96167</td>\n",
       "      <td>mikemay</td>\n",
       "      <td>&lt;p&gt;Application Developer\\nC#\\nJava\\nC++\\nExcel...</td>\n",
       "      <td>None</td>\n",
       "      <td>2009-04-26 09:16:52.437000+00:00</td>\n",
       "      <td>2019-11-30 05:33:48.040000+00:00</td>\n",
       "      <td>United Kingdom</td>\n",
       "      <td>2245</td>\n",
       "      <td>1309</td>\n",
       "      <td>2</td>\n",
       "      <td>113</td>\n",
       "      <td>https://i.stack.imgur.com/wH4jh.jpg?s=128&amp;g=1</td>\n",
       "      <td>None</td>\n",
       "    </tr>\n",
       "  </tbody>\n",
       "</table>\n",
       "</div>"
      ],
      "text/plain": [
       "      id   display_name                                           about_me  \\\n",
       "0   1074        Javache  <p>Hi.</p>\\n\\n<p>I'm an iOS engineer at Facebo...   \n",
       "1   1077            smh               <p>\\nEmbedded software engineer.</p>   \n",
       "2   4397      andygeers                                               None   \n",
       "3   5337         J Hunt                                            <p></p>   \n",
       "4   6910       Jonathan  <ul><li>Started programming with Visual Basic ...   \n",
       "5  33682  James Crowley  <p>Co-founder at <a href=\"http://www.fundapps....   \n",
       "6  71376         Matt W  <p>I write code for fun and profit. Sometimes ...   \n",
       "7  73789      Perrin255                                               None   \n",
       "8  90996        badmanj                                               None   \n",
       "9  96167        mikemay  <p>Application Developer\\nC#\\nJava\\nC++\\nExcel...   \n",
       "\n",
       "    age                    creation_date                 last_access_date  \\\n",
       "0  None 2008-08-12 10:11:09.847000+00:00 2019-10-21 15:17:18.803000+00:00   \n",
       "1  None 2008-08-12 10:34:56.447000+00:00 2019-09-07 17:19:22.130000+00:00   \n",
       "2  None 2008-09-03 13:48:30.233000+00:00 2019-11-29 12:40:30.020000+00:00   \n",
       "3  None 2008-09-09 09:07:41.840000+00:00 2015-02-19 16:29:45.007000+00:00   \n",
       "4  None 2008-09-15 12:48:35.843000+00:00 2019-11-29 15:15:39.270000+00:00   \n",
       "5  None 2008-11-03 15:43:51.987000+00:00 2019-11-19 17:11:30.080000+00:00   \n",
       "6  None 2009-02-26 13:19:55.310000+00:00 2019-11-29 10:17:03.160000+00:00   \n",
       "7  None 2009-03-04 16:50:24.240000+00:00 2019-04-26 14:48:57.903000+00:00   \n",
       "8  None 2009-04-15 09:01:26.433000+00:00 2010-04-09 10:31:19.850000+00:00   \n",
       "9  None 2009-04-26 09:16:52.437000+00:00 2019-11-30 05:33:48.040000+00:00   \n",
       "\n",
       "                      location  reputation  up_votes  down_votes  views  \\\n",
       "0       London, United Kingdom        3107       158          21    266   \n",
       "1  Southampton, United Kingdom        1075       148           4     69   \n",
       "2       London, United Kingdom        6057       511          12    593   \n",
       "3               United Kingdom         602         1           0    127   \n",
       "4               United Kingdom       21315       897           8    831   \n",
       "5               United Kingdom        3218       124           3    448   \n",
       "6       London, United Kingdom        7101       642          25    655   \n",
       "7               United Kingdom         431        55           0     49   \n",
       "8               United Kingdom         178         3           0     51   \n",
       "9               United Kingdom        2245      1309           2    113   \n",
       "\n",
       "                                   profile_image_url  \\\n",
       "0                                               None   \n",
       "1                                               None   \n",
       "2                                               None   \n",
       "3                                               None   \n",
       "4  https://www.gravatar.com/avatar/592695fec5a951...   \n",
       "5                                               None   \n",
       "6                                               None   \n",
       "7                                               None   \n",
       "8                                               None   \n",
       "9      https://i.stack.imgur.com/wH4jh.jpg?s=128&g=1   \n",
       "\n",
       "                              website_url  \n",
       "0             http://thinkjavache.be/blog  \n",
       "1                   http://www.bevois.com  \n",
       "2                   http://www.geero.net/  \n",
       "3                                    None  \n",
       "4                   http://www.toolan.net  \n",
       "5            http://www.jamescrowley.net/  \n",
       "6  http://springboardpillow.blogspot.com/  \n",
       "7                                    None  \n",
       "8                                    None  \n",
       "9                                    None  "
      ]
     },
     "execution_count": 5,
     "metadata": {},
     "output_type": "execute_result"
    }
   ],
   "source": [
    "query_job = client.query(query=sql)\n",
    "df=query_job.to_dataframe()\n",
    "df.head(10)"
   ]
  },
  {
   "cell_type": "code",
   "execution_count": 6,
   "metadata": {
    "ExecuteTime": {
     "end_time": "2020-01-30T14:27:00.889227Z",
     "start_time": "2020-01-30T14:27:00.740344Z"
    }
   },
   "outputs": [
    {
     "data": {
      "text/plain": [
       "id                   66832\n",
       "display_name         66832\n",
       "about_me             24957\n",
       "age                      0\n",
       "creation_date        66832\n",
       "last_access_date     66832\n",
       "location             66832\n",
       "reputation           66832\n",
       "up_votes             66832\n",
       "down_votes           66832\n",
       "views                66832\n",
       "profile_image_url    44707\n",
       "website_url          20877\n",
       "dtype: int64"
      ]
     },
     "execution_count": 6,
     "metadata": {},
     "output_type": "execute_result"
    }
   ],
   "source": [
    "df.count()"
   ]
  },
  {
   "cell_type": "markdown",
   "metadata": {},
   "source": [
    "#### 5. Rename id column to user_id"
   ]
  },
  {
   "cell_type": "code",
   "execution_count": 8,
   "metadata": {
    "ExecuteTime": {
     "end_time": "2020-01-30T14:27:27.920110Z",
     "start_time": "2020-01-30T14:27:27.860428Z"
    }
   },
   "outputs": [
    {
     "data": {
      "text/html": [
       "<div>\n",
       "<style scoped>\n",
       "    .dataframe tbody tr th:only-of-type {\n",
       "        vertical-align: middle;\n",
       "    }\n",
       "\n",
       "    .dataframe tbody tr th {\n",
       "        vertical-align: top;\n",
       "    }\n",
       "\n",
       "    .dataframe thead th {\n",
       "        text-align: right;\n",
       "    }\n",
       "</style>\n",
       "<table border=\"1\" class=\"dataframe\">\n",
       "  <thead>\n",
       "    <tr style=\"text-align: right;\">\n",
       "      <th></th>\n",
       "      <th>user_id</th>\n",
       "      <th>display_name</th>\n",
       "      <th>about_me</th>\n",
       "      <th>age</th>\n",
       "      <th>creation_date</th>\n",
       "      <th>last_access_date</th>\n",
       "      <th>location</th>\n",
       "      <th>reputation</th>\n",
       "      <th>up_votes</th>\n",
       "      <th>down_votes</th>\n",
       "      <th>views</th>\n",
       "      <th>profile_image_url</th>\n",
       "      <th>website_url</th>\n",
       "    </tr>\n",
       "  </thead>\n",
       "  <tbody>\n",
       "    <tr>\n",
       "      <th>0</th>\n",
       "      <td>1074</td>\n",
       "      <td>Javache</td>\n",
       "      <td>&lt;p&gt;Hi.&lt;/p&gt;\\n\\n&lt;p&gt;I'm an iOS engineer at Facebo...</td>\n",
       "      <td>None</td>\n",
       "      <td>2008-08-12 10:11:09.847000+00:00</td>\n",
       "      <td>2019-10-21 15:17:18.803000+00:00</td>\n",
       "      <td>London, United Kingdom</td>\n",
       "      <td>3107</td>\n",
       "      <td>158</td>\n",
       "      <td>21</td>\n",
       "      <td>266</td>\n",
       "      <td>None</td>\n",
       "      <td>http://thinkjavache.be/blog</td>\n",
       "    </tr>\n",
       "    <tr>\n",
       "      <th>1</th>\n",
       "      <td>1077</td>\n",
       "      <td>smh</td>\n",
       "      <td>&lt;p&gt;\\nEmbedded software engineer.&lt;/p&gt;</td>\n",
       "      <td>None</td>\n",
       "      <td>2008-08-12 10:34:56.447000+00:00</td>\n",
       "      <td>2019-09-07 17:19:22.130000+00:00</td>\n",
       "      <td>Southampton, United Kingdom</td>\n",
       "      <td>1075</td>\n",
       "      <td>148</td>\n",
       "      <td>4</td>\n",
       "      <td>69</td>\n",
       "      <td>None</td>\n",
       "      <td>http://www.bevois.com</td>\n",
       "    </tr>\n",
       "    <tr>\n",
       "      <th>2</th>\n",
       "      <td>4397</td>\n",
       "      <td>andygeers</td>\n",
       "      <td>None</td>\n",
       "      <td>None</td>\n",
       "      <td>2008-09-03 13:48:30.233000+00:00</td>\n",
       "      <td>2019-11-29 12:40:30.020000+00:00</td>\n",
       "      <td>London, United Kingdom</td>\n",
       "      <td>6057</td>\n",
       "      <td>511</td>\n",
       "      <td>12</td>\n",
       "      <td>593</td>\n",
       "      <td>None</td>\n",
       "      <td>http://www.geero.net/</td>\n",
       "    </tr>\n",
       "    <tr>\n",
       "      <th>3</th>\n",
       "      <td>5337</td>\n",
       "      <td>J Hunt</td>\n",
       "      <td>&lt;p&gt;&lt;/p&gt;</td>\n",
       "      <td>None</td>\n",
       "      <td>2008-09-09 09:07:41.840000+00:00</td>\n",
       "      <td>2015-02-19 16:29:45.007000+00:00</td>\n",
       "      <td>United Kingdom</td>\n",
       "      <td>602</td>\n",
       "      <td>1</td>\n",
       "      <td>0</td>\n",
       "      <td>127</td>\n",
       "      <td>None</td>\n",
       "      <td>None</td>\n",
       "    </tr>\n",
       "    <tr>\n",
       "      <th>4</th>\n",
       "      <td>6910</td>\n",
       "      <td>Jonathan</td>\n",
       "      <td>&lt;ul&gt;&lt;li&gt;Started programming with Visual Basic ...</td>\n",
       "      <td>None</td>\n",
       "      <td>2008-09-15 12:48:35.843000+00:00</td>\n",
       "      <td>2019-11-29 15:15:39.270000+00:00</td>\n",
       "      <td>United Kingdom</td>\n",
       "      <td>21315</td>\n",
       "      <td>897</td>\n",
       "      <td>8</td>\n",
       "      <td>831</td>\n",
       "      <td>https://www.gravatar.com/avatar/592695fec5a951...</td>\n",
       "      <td>http://www.toolan.net</td>\n",
       "    </tr>\n",
       "  </tbody>\n",
       "</table>\n",
       "</div>"
      ],
      "text/plain": [
       "   user_id display_name                                           about_me  \\\n",
       "0     1074      Javache  <p>Hi.</p>\\n\\n<p>I'm an iOS engineer at Facebo...   \n",
       "1     1077          smh               <p>\\nEmbedded software engineer.</p>   \n",
       "2     4397    andygeers                                               None   \n",
       "3     5337       J Hunt                                            <p></p>   \n",
       "4     6910     Jonathan  <ul><li>Started programming with Visual Basic ...   \n",
       "\n",
       "    age                    creation_date                 last_access_date  \\\n",
       "0  None 2008-08-12 10:11:09.847000+00:00 2019-10-21 15:17:18.803000+00:00   \n",
       "1  None 2008-08-12 10:34:56.447000+00:00 2019-09-07 17:19:22.130000+00:00   \n",
       "2  None 2008-09-03 13:48:30.233000+00:00 2019-11-29 12:40:30.020000+00:00   \n",
       "3  None 2008-09-09 09:07:41.840000+00:00 2015-02-19 16:29:45.007000+00:00   \n",
       "4  None 2008-09-15 12:48:35.843000+00:00 2019-11-29 15:15:39.270000+00:00   \n",
       "\n",
       "                      location  reputation  up_votes  down_votes  views  \\\n",
       "0       London, United Kingdom        3107       158          21    266   \n",
       "1  Southampton, United Kingdom        1075       148           4     69   \n",
       "2       London, United Kingdom        6057       511          12    593   \n",
       "3               United Kingdom         602         1           0    127   \n",
       "4               United Kingdom       21315       897           8    831   \n",
       "\n",
       "                                   profile_image_url  \\\n",
       "0                                               None   \n",
       "1                                               None   \n",
       "2                                               None   \n",
       "3                                               None   \n",
       "4  https://www.gravatar.com/avatar/592695fec5a951...   \n",
       "\n",
       "                   website_url  \n",
       "0  http://thinkjavache.be/blog  \n",
       "1        http://www.bevois.com  \n",
       "2        http://www.geero.net/  \n",
       "3                         None  \n",
       "4        http://www.toolan.net  "
      ]
     },
     "execution_count": 8,
     "metadata": {},
     "output_type": "execute_result"
    }
   ],
   "source": [
    "df=df.rename(columns={'id':'user_id'})\n",
    "df.head()"
   ]
  },
  {
   "cell_type": "markdown",
   "metadata": {},
   "source": [
    "#### 6. Import from the stackoverflow_posts table all items which have up to 20 view counts and only select 'id', 'owner_user_id', 'score', 'view_count', 'comment_count', 'favorite_count'"
   ]
  },
  {
   "cell_type": "code",
   "execution_count": 10,
   "metadata": {
    "ExecuteTime": {
     "end_time": "2020-01-30T14:29:05.401228Z",
     "start_time": "2020-01-30T14:28:36.866930Z"
    }
   },
   "outputs": [
    {
     "data": {
      "text/html": [
       "<div>\n",
       "<style scoped>\n",
       "    .dataframe tbody tr th:only-of-type {\n",
       "        vertical-align: middle;\n",
       "    }\n",
       "\n",
       "    .dataframe tbody tr th {\n",
       "        vertical-align: top;\n",
       "    }\n",
       "\n",
       "    .dataframe thead th {\n",
       "        text-align: right;\n",
       "    }\n",
       "</style>\n",
       "<table border=\"1\" class=\"dataframe\">\n",
       "  <thead>\n",
       "    <tr style=\"text-align: right;\">\n",
       "      <th></th>\n",
       "      <th>id</th>\n",
       "      <th>owner_user_id</th>\n",
       "      <th>score</th>\n",
       "      <th>view_count</th>\n",
       "      <th>comment_count</th>\n",
       "      <th>favorite_count</th>\n",
       "    </tr>\n",
       "  </thead>\n",
       "  <tbody>\n",
       "    <tr>\n",
       "      <th>0</th>\n",
       "      <td>23154134</td>\n",
       "      <td>NaN</td>\n",
       "      <td>1</td>\n",
       "      <td>20</td>\n",
       "      <td>0</td>\n",
       "      <td>NaN</td>\n",
       "    </tr>\n",
       "    <tr>\n",
       "      <th>1</th>\n",
       "      <td>37516574</td>\n",
       "      <td>NaN</td>\n",
       "      <td>0</td>\n",
       "      <td>7</td>\n",
       "      <td>0</td>\n",
       "      <td>NaN</td>\n",
       "    </tr>\n",
       "    <tr>\n",
       "      <th>2</th>\n",
       "      <td>37319831</td>\n",
       "      <td>NaN</td>\n",
       "      <td>1</td>\n",
       "      <td>18</td>\n",
       "      <td>0</td>\n",
       "      <td>NaN</td>\n",
       "    </tr>\n",
       "    <tr>\n",
       "      <th>3</th>\n",
       "      <td>31140287</td>\n",
       "      <td>NaN</td>\n",
       "      <td>1</td>\n",
       "      <td>16</td>\n",
       "      <td>3</td>\n",
       "      <td>NaN</td>\n",
       "    </tr>\n",
       "    <tr>\n",
       "      <th>4</th>\n",
       "      <td>36546336</td>\n",
       "      <td>NaN</td>\n",
       "      <td>0</td>\n",
       "      <td>8</td>\n",
       "      <td>0</td>\n",
       "      <td>NaN</td>\n",
       "    </tr>\n",
       "    <tr>\n",
       "      <th>5</th>\n",
       "      <td>37135854</td>\n",
       "      <td>NaN</td>\n",
       "      <td>0</td>\n",
       "      <td>12</td>\n",
       "      <td>0</td>\n",
       "      <td>NaN</td>\n",
       "    </tr>\n",
       "    <tr>\n",
       "      <th>6</th>\n",
       "      <td>1555629</td>\n",
       "      <td>NaN</td>\n",
       "      <td>0</td>\n",
       "      <td>20</td>\n",
       "      <td>0</td>\n",
       "      <td>NaN</td>\n",
       "    </tr>\n",
       "    <tr>\n",
       "      <th>7</th>\n",
       "      <td>36321359</td>\n",
       "      <td>NaN</td>\n",
       "      <td>0</td>\n",
       "      <td>18</td>\n",
       "      <td>0</td>\n",
       "      <td>NaN</td>\n",
       "    </tr>\n",
       "    <tr>\n",
       "      <th>8</th>\n",
       "      <td>36544553</td>\n",
       "      <td>846347.0</td>\n",
       "      <td>0</td>\n",
       "      <td>12</td>\n",
       "      <td>0</td>\n",
       "      <td>NaN</td>\n",
       "    </tr>\n",
       "    <tr>\n",
       "      <th>9</th>\n",
       "      <td>24160601</td>\n",
       "      <td>837501.0</td>\n",
       "      <td>0</td>\n",
       "      <td>12</td>\n",
       "      <td>0</td>\n",
       "      <td>NaN</td>\n",
       "    </tr>\n",
       "  </tbody>\n",
       "</table>\n",
       "</div>"
      ],
      "text/plain": [
       "         id  owner_user_id  score  view_count  comment_count  favorite_count\n",
       "0  23154134            NaN      1          20              0             NaN\n",
       "1  37516574            NaN      0           7              0             NaN\n",
       "2  37319831            NaN      1          18              0             NaN\n",
       "3  31140287            NaN      1          16              3             NaN\n",
       "4  36546336            NaN      0           8              0             NaN\n",
       "5  37135854            NaN      0          12              0             NaN\n",
       "6   1555629            NaN      0          20              0             NaN\n",
       "7  36321359            NaN      0          18              0             NaN\n",
       "8  36544553       846347.0      0          12              0             NaN\n",
       "9  24160601       837501.0      0          12              0             NaN"
      ]
     },
     "execution_count": 10,
     "metadata": {},
     "output_type": "execute_result"
    }
   ],
   "source": [
    "sql=\"\"\"\n",
    "SELECT \n",
    "    id, owner_user_id, score, view_count, comment_count, favorite_count\n",
    "FROM\n",
    "    `bigquery-public-data.stackoverflow.stackoverflow_posts`\n",
    "WHERE\n",
    "    view_count<=20\n",
    "    \"\"\"\n",
    "query_job = client.query(query=sql)\n",
    "df_sp=query_job.to_dataframe()\n",
    "df_sp.head(10)"
   ]
  },
  {
   "cell_type": "markdown",
   "metadata": {},
   "source": [
    "#### 7. Rename id column to post_id and owner_user_id to user_id"
   ]
  },
  {
   "cell_type": "code",
   "execution_count": 11,
   "metadata": {
    "ExecuteTime": {
     "end_time": "2020-01-30T14:29:05.860179Z",
     "start_time": "2020-01-30T14:29:05.768839Z"
    }
   },
   "outputs": [
    {
     "data": {
      "text/html": [
       "<div>\n",
       "<style scoped>\n",
       "    .dataframe tbody tr th:only-of-type {\n",
       "        vertical-align: middle;\n",
       "    }\n",
       "\n",
       "    .dataframe tbody tr th {\n",
       "        vertical-align: top;\n",
       "    }\n",
       "\n",
       "    .dataframe thead th {\n",
       "        text-align: right;\n",
       "    }\n",
       "</style>\n",
       "<table border=\"1\" class=\"dataframe\">\n",
       "  <thead>\n",
       "    <tr style=\"text-align: right;\">\n",
       "      <th></th>\n",
       "      <th>post_id</th>\n",
       "      <th>user_id</th>\n",
       "      <th>score</th>\n",
       "      <th>view_count</th>\n",
       "      <th>comment_count</th>\n",
       "      <th>favorite_count</th>\n",
       "    </tr>\n",
       "  </thead>\n",
       "  <tbody>\n",
       "    <tr>\n",
       "      <th>0</th>\n",
       "      <td>23154134</td>\n",
       "      <td>NaN</td>\n",
       "      <td>1</td>\n",
       "      <td>20</td>\n",
       "      <td>0</td>\n",
       "      <td>NaN</td>\n",
       "    </tr>\n",
       "    <tr>\n",
       "      <th>1</th>\n",
       "      <td>37516574</td>\n",
       "      <td>NaN</td>\n",
       "      <td>0</td>\n",
       "      <td>7</td>\n",
       "      <td>0</td>\n",
       "      <td>NaN</td>\n",
       "    </tr>\n",
       "    <tr>\n",
       "      <th>2</th>\n",
       "      <td>37319831</td>\n",
       "      <td>NaN</td>\n",
       "      <td>1</td>\n",
       "      <td>18</td>\n",
       "      <td>0</td>\n",
       "      <td>NaN</td>\n",
       "    </tr>\n",
       "    <tr>\n",
       "      <th>3</th>\n",
       "      <td>31140287</td>\n",
       "      <td>NaN</td>\n",
       "      <td>1</td>\n",
       "      <td>16</td>\n",
       "      <td>3</td>\n",
       "      <td>NaN</td>\n",
       "    </tr>\n",
       "    <tr>\n",
       "      <th>4</th>\n",
       "      <td>36546336</td>\n",
       "      <td>NaN</td>\n",
       "      <td>0</td>\n",
       "      <td>8</td>\n",
       "      <td>0</td>\n",
       "      <td>NaN</td>\n",
       "    </tr>\n",
       "  </tbody>\n",
       "</table>\n",
       "</div>"
      ],
      "text/plain": [
       "    post_id  user_id  score  view_count  comment_count  favorite_count\n",
       "0  23154134      NaN      1          20              0             NaN\n",
       "1  37516574      NaN      0           7              0             NaN\n",
       "2  37319831      NaN      1          18              0             NaN\n",
       "3  31140287      NaN      1          16              3             NaN\n",
       "4  36546336      NaN      0           8              0             NaN"
      ]
     },
     "execution_count": 11,
     "metadata": {},
     "output_type": "execute_result"
    }
   ],
   "source": [
    "df_sp=df_sp.rename(columns={'id':'post_id','owner_user_id':'user_id'})\n",
    "df_sp.head()"
   ]
  },
  {
   "cell_type": "markdown",
   "metadata": {},
   "source": [
    "#### 8. Define new dataframes for users and posts with the following selected columns:\n",
    "    **users columns**: user_id, reputation,views,up_votes,down_votes\n",
    "    **posts columns**: post_id, score,user_id,view_count,comment_count"
   ]
  },
  {
   "cell_type": "code",
   "execution_count": 14,
   "metadata": {
    "ExecuteTime": {
     "end_time": "2020-01-30T14:34:34.937740Z",
     "start_time": "2020-01-30T14:34:34.909886Z"
    }
   },
   "outputs": [],
   "source": [
    "user_id=df[['user_id', 'reputation', 'views' , 'up_votes','down_votes']]\n",
    "post_id=df_sp[['post_id', 'score', 'user_id', 'view_count' ,'comment_count']]"
   ]
  },
  {
   "cell_type": "code",
   "execution_count": 15,
   "metadata": {
    "ExecuteTime": {
     "end_time": "2020-01-30T14:34:38.499031Z",
     "start_time": "2020-01-30T14:34:38.486770Z"
    }
   },
   "outputs": [
    {
     "data": {
      "text/html": [
       "<div>\n",
       "<style scoped>\n",
       "    .dataframe tbody tr th:only-of-type {\n",
       "        vertical-align: middle;\n",
       "    }\n",
       "\n",
       "    .dataframe tbody tr th {\n",
       "        vertical-align: top;\n",
       "    }\n",
       "\n",
       "    .dataframe thead th {\n",
       "        text-align: right;\n",
       "    }\n",
       "</style>\n",
       "<table border=\"1\" class=\"dataframe\">\n",
       "  <thead>\n",
       "    <tr style=\"text-align: right;\">\n",
       "      <th></th>\n",
       "      <th>user_id</th>\n",
       "      <th>reputation</th>\n",
       "      <th>views</th>\n",
       "      <th>up_votes</th>\n",
       "      <th>down_votes</th>\n",
       "    </tr>\n",
       "  </thead>\n",
       "  <tbody>\n",
       "    <tr>\n",
       "      <th>0</th>\n",
       "      <td>1074</td>\n",
       "      <td>3107</td>\n",
       "      <td>266</td>\n",
       "      <td>158</td>\n",
       "      <td>21</td>\n",
       "    </tr>\n",
       "    <tr>\n",
       "      <th>1</th>\n",
       "      <td>1077</td>\n",
       "      <td>1075</td>\n",
       "      <td>69</td>\n",
       "      <td>148</td>\n",
       "      <td>4</td>\n",
       "    </tr>\n",
       "    <tr>\n",
       "      <th>2</th>\n",
       "      <td>4397</td>\n",
       "      <td>6057</td>\n",
       "      <td>593</td>\n",
       "      <td>511</td>\n",
       "      <td>12</td>\n",
       "    </tr>\n",
       "    <tr>\n",
       "      <th>3</th>\n",
       "      <td>5337</td>\n",
       "      <td>602</td>\n",
       "      <td>127</td>\n",
       "      <td>1</td>\n",
       "      <td>0</td>\n",
       "    </tr>\n",
       "    <tr>\n",
       "      <th>4</th>\n",
       "      <td>6910</td>\n",
       "      <td>21315</td>\n",
       "      <td>831</td>\n",
       "      <td>897</td>\n",
       "      <td>8</td>\n",
       "    </tr>\n",
       "  </tbody>\n",
       "</table>\n",
       "</div>"
      ],
      "text/plain": [
       "   user_id  reputation  views  up_votes  down_votes\n",
       "0     1074        3107    266       158          21\n",
       "1     1077        1075     69       148           4\n",
       "2     4397        6057    593       511          12\n",
       "3     5337         602    127         1           0\n",
       "4     6910       21315    831       897           8"
      ]
     },
     "execution_count": 15,
     "metadata": {},
     "output_type": "execute_result"
    }
   ],
   "source": [
    "user_id.head()"
   ]
  },
  {
   "cell_type": "code",
   "execution_count": 16,
   "metadata": {
    "ExecuteTime": {
     "end_time": "2020-01-30T14:35:01.464388Z",
     "start_time": "2020-01-30T14:35:01.450339Z"
    }
   },
   "outputs": [
    {
     "data": {
      "text/html": [
       "<div>\n",
       "<style scoped>\n",
       "    .dataframe tbody tr th:only-of-type {\n",
       "        vertical-align: middle;\n",
       "    }\n",
       "\n",
       "    .dataframe tbody tr th {\n",
       "        vertical-align: top;\n",
       "    }\n",
       "\n",
       "    .dataframe thead th {\n",
       "        text-align: right;\n",
       "    }\n",
       "</style>\n",
       "<table border=\"1\" class=\"dataframe\">\n",
       "  <thead>\n",
       "    <tr style=\"text-align: right;\">\n",
       "      <th></th>\n",
       "      <th>post_id</th>\n",
       "      <th>score</th>\n",
       "      <th>user_id</th>\n",
       "      <th>view_count</th>\n",
       "      <th>comment_count</th>\n",
       "    </tr>\n",
       "  </thead>\n",
       "  <tbody>\n",
       "    <tr>\n",
       "      <th>0</th>\n",
       "      <td>23154134</td>\n",
       "      <td>1</td>\n",
       "      <td>NaN</td>\n",
       "      <td>20</td>\n",
       "      <td>0</td>\n",
       "    </tr>\n",
       "    <tr>\n",
       "      <th>1</th>\n",
       "      <td>37516574</td>\n",
       "      <td>0</td>\n",
       "      <td>NaN</td>\n",
       "      <td>7</td>\n",
       "      <td>0</td>\n",
       "    </tr>\n",
       "    <tr>\n",
       "      <th>2</th>\n",
       "      <td>37319831</td>\n",
       "      <td>1</td>\n",
       "      <td>NaN</td>\n",
       "      <td>18</td>\n",
       "      <td>0</td>\n",
       "    </tr>\n",
       "    <tr>\n",
       "      <th>3</th>\n",
       "      <td>31140287</td>\n",
       "      <td>1</td>\n",
       "      <td>NaN</td>\n",
       "      <td>16</td>\n",
       "      <td>3</td>\n",
       "    </tr>\n",
       "    <tr>\n",
       "      <th>4</th>\n",
       "      <td>36546336</td>\n",
       "      <td>0</td>\n",
       "      <td>NaN</td>\n",
       "      <td>8</td>\n",
       "      <td>0</td>\n",
       "    </tr>\n",
       "  </tbody>\n",
       "</table>\n",
       "</div>"
      ],
      "text/plain": [
       "    post_id  score  user_id  view_count  comment_count\n",
       "0  23154134      1      NaN          20              0\n",
       "1  37516574      0      NaN           7              0\n",
       "2  37319831      1      NaN          18              0\n",
       "3  31140287      1      NaN          16              3\n",
       "4  36546336      0      NaN           8              0"
      ]
     },
     "execution_count": 16,
     "metadata": {},
     "output_type": "execute_result"
    }
   ],
   "source": [
    "post_id.head()"
   ]
  },
  {
   "cell_type": "markdown",
   "metadata": {},
   "source": [
    "#### 8. Merge both dataframes, users and posts. \n",
    "You will need to make a [merge](https://pandas.pydata.org/pandas-docs/stable/generated/pandas.DataFrame.merge.html) of posts and users dataframes."
   ]
  },
  {
   "cell_type": "code",
   "execution_count": 17,
   "metadata": {
    "ExecuteTime": {
     "end_time": "2020-01-30T14:37:44.987452Z",
     "start_time": "2020-01-30T14:37:44.637226Z"
    }
   },
   "outputs": [
    {
     "data": {
      "text/html": [
       "<div>\n",
       "<style scoped>\n",
       "    .dataframe tbody tr th:only-of-type {\n",
       "        vertical-align: middle;\n",
       "    }\n",
       "\n",
       "    .dataframe tbody tr th {\n",
       "        vertical-align: top;\n",
       "    }\n",
       "\n",
       "    .dataframe thead th {\n",
       "        text-align: right;\n",
       "    }\n",
       "</style>\n",
       "<table border=\"1\" class=\"dataframe\">\n",
       "  <thead>\n",
       "    <tr style=\"text-align: right;\">\n",
       "      <th></th>\n",
       "      <th>user_id</th>\n",
       "      <th>reputation</th>\n",
       "      <th>views</th>\n",
       "      <th>up_votes</th>\n",
       "      <th>down_votes</th>\n",
       "      <th>post_id</th>\n",
       "      <th>score</th>\n",
       "      <th>view_count</th>\n",
       "      <th>comment_count</th>\n",
       "    </tr>\n",
       "  </thead>\n",
       "  <tbody>\n",
       "    <tr>\n",
       "      <th>0</th>\n",
       "      <td>33682</td>\n",
       "      <td>3218</td>\n",
       "      <td>448</td>\n",
       "      <td>124</td>\n",
       "      <td>3</td>\n",
       "      <td>31383344</td>\n",
       "      <td>0</td>\n",
       "      <td>11</td>\n",
       "      <td>0</td>\n",
       "    </tr>\n",
       "    <tr>\n",
       "      <th>1</th>\n",
       "      <td>148381</td>\n",
       "      <td>9331</td>\n",
       "      <td>800</td>\n",
       "      <td>509</td>\n",
       "      <td>158</td>\n",
       "      <td>34420509</td>\n",
       "      <td>0</td>\n",
       "      <td>19</td>\n",
       "      <td>0</td>\n",
       "    </tr>\n",
       "    <tr>\n",
       "      <th>2</th>\n",
       "      <td>385390</td>\n",
       "      <td>717</td>\n",
       "      <td>91</td>\n",
       "      <td>15</td>\n",
       "      <td>2</td>\n",
       "      <td>37756554</td>\n",
       "      <td>0</td>\n",
       "      <td>9</td>\n",
       "      <td>0</td>\n",
       "    </tr>\n",
       "    <tr>\n",
       "      <th>3</th>\n",
       "      <td>1010198</td>\n",
       "      <td>412</td>\n",
       "      <td>141</td>\n",
       "      <td>19</td>\n",
       "      <td>0</td>\n",
       "      <td>36489861</td>\n",
       "      <td>0</td>\n",
       "      <td>16</td>\n",
       "      <td>0</td>\n",
       "    </tr>\n",
       "    <tr>\n",
       "      <th>4</th>\n",
       "      <td>1010198</td>\n",
       "      <td>412</td>\n",
       "      <td>141</td>\n",
       "      <td>19</td>\n",
       "      <td>0</td>\n",
       "      <td>33721783</td>\n",
       "      <td>0</td>\n",
       "      <td>15</td>\n",
       "      <td>0</td>\n",
       "    </tr>\n",
       "  </tbody>\n",
       "</table>\n",
       "</div>"
      ],
      "text/plain": [
       "   user_id  reputation  views  up_votes  down_votes   post_id  score  \\\n",
       "0    33682        3218    448       124           3  31383344      0   \n",
       "1   148381        9331    800       509         158  34420509      0   \n",
       "2   385390         717     91        15           2  37756554      0   \n",
       "3  1010198         412    141        19           0  36489861      0   \n",
       "4  1010198         412    141        19           0  33721783      0   \n",
       "\n",
       "   view_count  comment_count  \n",
       "0          11              0  \n",
       "1          19              0  \n",
       "2           9              0  \n",
       "3          16              0  \n",
       "4          15              0  "
      ]
     },
     "execution_count": 17,
     "metadata": {},
     "output_type": "execute_result"
    }
   ],
   "source": [
    "pd_merge=pd.merge(user_id, post_id,on='user_id').head()\n",
    "pd_merge.head()"
   ]
  },
  {
   "cell_type": "markdown",
   "metadata": {},
   "source": [
    "#### 9. How many missing values do you have in your merged dataframe? "
   ]
  },
  {
   "cell_type": "code",
   "execution_count": 18,
   "metadata": {
    "ExecuteTime": {
     "end_time": "2020-01-30T14:39:49.884792Z",
     "start_time": "2020-01-30T14:39:49.876280Z"
    }
   },
   "outputs": [
    {
     "data": {
      "text/plain": [
       "user_id          0\n",
       "reputation       0\n",
       "views            0\n",
       "up_votes         0\n",
       "down_votes       0\n",
       "post_id          0\n",
       "score            0\n",
       "view_count       0\n",
       "comment_count    0\n",
       "dtype: int64"
      ]
     },
     "execution_count": 18,
     "metadata": {},
     "output_type": "execute_result"
    }
   ],
   "source": [
    "null_cols= pd_merge.isnull().sum()\n",
    "null_cols"
   ]
  },
  {
   "cell_type": "markdown",
   "metadata": {},
   "source": [
    "#### Bonus: Identify extreme values in your merged dataframe, create a dataframe called outliers with the same columns as our data set and calculate the bounds. The values of the outliers dataframe will be the values of the merged_df that fall outside that bounds. You will need to save your outliers dataframe to a csv file on your-code folder. Hint: post_id cannot have outliers!"
   ]
  },
  {
   "cell_type": "code",
   "execution_count": 29,
   "metadata": {
    "ExecuteTime": {
     "end_time": "2020-01-30T15:10:53.031516Z",
     "start_time": "2020-01-30T15:10:53.020576Z"
    }
   },
   "outputs": [
    {
     "name": "stdout",
     "output_type": "stream",
     "text": [
      "['reputation', 'views', 'up_votes', 'down_votes', 'score', 'view_count', 'comment_count']\n"
     ]
    }
   ],
   "source": [
    "cols=list(pd_merge._get_numeric_data().columns)\n",
    "cols.remove('user_id')\n",
    "cols.remove('post_id')\n",
    "print(cols)"
   ]
  },
  {
   "cell_type": "code",
   "execution_count": 32,
   "metadata": {
    "ExecuteTime": {
     "end_time": "2020-01-30T15:18:21.382037Z",
     "start_time": "2020-01-30T15:18:21.127827Z"
    }
   },
   "outputs": [
    {
     "name": "stderr",
     "output_type": "stream",
     "text": [
      "C:\\Users\\Kalilu\\Anaconda3\\lib\\site-packages\\pandas\\core\\frame.py:6211: FutureWarning: Sorting because non-concatenation axis is not aligned. A future version\n",
      "of pandas will change to not sort by default.\n",
      "\n",
      "To accept the future behavior, pass 'sort=False'.\n",
      "\n",
      "To retain the current behavior and silence the warning, pass 'sort=True'.\n",
      "\n",
      "  sort=sort)\n"
     ]
    }
   ],
   "source": [
    "stats = pd_merge.describe().transpose()\n",
    "stats['IQR']=stats['75%']-stats['25%']\n",
    "outliers = pd.DataFrame(columns=pd_merge.columns)\n",
    "for col in stats.index:\n",
    "    iqr = stats.at[col,'IQR']\n",
    "    cutoff = iqr * 1.5\n",
    "    lower = stats.at[col,'25%'] - cutoff\n",
    "    upper = stats.at[col,'75%'] + cutoff\n",
    "    results = pd_merge[(pd_merge[col] < lower) |\n",
    "                   (pd_merge[col] > upper)].copy()\n",
    "    results['Outlier'] = col\n",
    "    outliers = outliers.append(results)"
   ]
  },
  {
   "cell_type": "code",
   "execution_count": 35,
   "metadata": {
    "ExecuteTime": {
     "end_time": "2020-01-30T15:22:07.802304Z",
     "start_time": "2020-01-30T15:22:07.774703Z"
    }
   },
   "outputs": [],
   "source": [
    "outliers.to_csv('outliers.csv')"
   ]
  }
 ],
 "metadata": {
  "kernelspec": {
   "display_name": "Python 3",
   "language": "python",
   "name": "python3"
  },
  "language_info": {
   "codemirror_mode": {
    "name": "ipython",
    "version": 3
   },
   "file_extension": ".py",
   "mimetype": "text/x-python",
   "name": "python",
   "nbconvert_exporter": "python",
   "pygments_lexer": "ipython3",
   "version": "3.7.1"
  },
  "latex_envs": {
   "LaTeX_envs_menu_present": true,
   "autoclose": false,
   "autocomplete": true,
   "bibliofile": "biblio.bib",
   "cite_by": "apalike",
   "current_citInitial": 1,
   "eqLabelWithNumbers": true,
   "eqNumInitial": 1,
   "hotkeys": {
    "equation": "Ctrl-E",
    "itemize": "Ctrl-I"
   },
   "labels_anchors": false,
   "latex_user_defs": false,
   "report_style_numbering": false,
   "user_envs_cfg": false
  },
  "toc": {
   "base_numbering": 1,
   "nav_menu": {},
   "number_sections": true,
   "sideBar": true,
   "skip_h1_title": false,
   "title_cell": "Table of Contents",
   "title_sidebar": "Contents",
   "toc_cell": false,
   "toc_position": {},
   "toc_section_display": true,
   "toc_window_display": false
  },
  "varInspector": {
   "cols": {
    "lenName": 16,
    "lenType": 16,
    "lenVar": 40
   },
   "kernels_config": {
    "python": {
     "delete_cmd_postfix": "",
     "delete_cmd_prefix": "del ",
     "library": "var_list.py",
     "varRefreshCmd": "print(var_dic_list())"
    },
    "r": {
     "delete_cmd_postfix": ") ",
     "delete_cmd_prefix": "rm(",
     "library": "var_list.r",
     "varRefreshCmd": "cat(var_dic_list()) "
    }
   },
   "types_to_exclude": [
    "module",
    "function",
    "builtin_function_or_method",
    "instance",
    "_Feature"
   ],
   "window_display": false
  }
 },
 "nbformat": 4,
 "nbformat_minor": 2
}
